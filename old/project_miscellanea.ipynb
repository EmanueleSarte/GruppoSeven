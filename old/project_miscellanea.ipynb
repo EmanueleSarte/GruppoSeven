{
 "cells": [
  {
   "cell_type": "code",
   "execution_count": 2,
   "metadata": {},
   "outputs": [],
   "source": [
    "import numpy as np"
   ]
  },
  {
   "cell_type": "code",
   "execution_count": 6,
   "metadata": {},
   "outputs": [
    {
     "name": "stdout",
     "output_type": "stream",
     "text": [
      "[1 3 2]\n",
      "[[1 9]\n",
      " [3 3]\n",
      " [5 7]]\n",
      "[1 2 3]\n",
      "[[1 9]\n",
      " [5 7]\n",
      " [3 3]]\n"
     ]
    }
   ],
   "source": [
    "A = np.array([[1,3,5],[9,3,7]])\n",
    "B = np.array([1,3,2])\n",
    "print(B)\n",
    "print(A.T)\n",
    "sort_perm = np.argsort(B)\n",
    "print(B[sort_perm])\n",
    "print(A.T[sort_perm])"
   ]
  },
  {
   "cell_type": "code",
   "execution_count": null,
   "metadata": {},
   "outputs": [],
   "source": []
  }
 ],
 "metadata": {
  "kernelspec": {
   "display_name": "base",
   "language": "python",
   "name": "python3"
  },
  "language_info": {
   "codemirror_mode": {
    "name": "ipython",
    "version": 3
   },
   "file_extension": ".py",
   "mimetype": "text/x-python",
   "name": "python",
   "nbconvert_exporter": "python",
   "pygments_lexer": "ipython3",
   "version": "3.9.7"
  },
  "orig_nbformat": 4,
  "vscode": {
   "interpreter": {
    "hash": "facef925bc4600fb61034d39cee95b57bae21946036c03f370e6273d3ef2b545"
   }
  }
 },
 "nbformat": 4,
 "nbformat_minor": 2
}
